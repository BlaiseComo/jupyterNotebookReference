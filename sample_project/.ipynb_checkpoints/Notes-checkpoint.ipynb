{
 "cells": [
  {
   "cell_type": "markdown",
   "id": "21bc103c",
   "metadata": {},
   "source": [
    "## Important Notes"
   ]
  },
  {
   "cell_type": "markdown",
   "id": "16c6780b",
   "metadata": {},
   "source": [
    "1. Esc then m then enter for markdown in a cell. Don't forget shift + enter "
   ]
  },
  {
   "cell_type": "markdown",
   "id": "e19e4494",
   "metadata": {},
   "source": [
    "3. Esc then select cell with arrows, then press a to create a cell above"
   ]
  },
  {
   "cell_type": "markdown",
   "id": "f1ea51ed",
   "metadata": {},
   "source": [
    "4. Esc then select with arrows, then press b to create a cell below"
   ]
  },
  {
   "cell_type": "markdown",
   "id": "3cff1fad",
   "metadata": {},
   "source": [
    "2. Esc then b to create a coding cell."
   ]
  },
  {
   "cell_type": "markdown",
   "id": "5e32f01a",
   "metadata": {},
   "source": []
  }
 ],
 "metadata": {
  "kernelspec": {
   "display_name": "Python 3 (ipykernel)",
   "language": "python",
   "name": "python3"
  },
  "language_info": {
   "codemirror_mode": {
    "name": "ipython",
    "version": 3
   },
   "file_extension": ".py",
   "mimetype": "text/x-python",
   "name": "python",
   "nbconvert_exporter": "python",
   "pygments_lexer": "ipython3",
   "version": "3.10.6"
  }
 },
 "nbformat": 4,
 "nbformat_minor": 5
}
