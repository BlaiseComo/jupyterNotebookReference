{
 "cells": [
  {
   "cell_type": "markdown",
   "id": "93758026",
   "metadata": {},
   "source": [
    "Import things like pandas numpy and matplotlib"
   ]
  },
  {
   "cell_type": "code",
   "execution_count": 1,
   "id": "f6290dc0",
   "metadata": {},
   "outputs": [],
   "source": [
    "import numpy as np\n",
    "import pandas as pd\n",
    "import matplotlib.pyplot as plt"
   ]
  },
  {
   "cell_type": "code",
   "execution_count": 2,
   "id": "e499f558",
   "metadata": {},
   "outputs": [
    {
     "name": "stdout",
     "output_type": "stream",
     "text": [
      "\u001b[34menv\u001b[m\u001b[m/                                    nuclear_weapons_proliferation_owid.csv\r\n",
      "main.ipynb\r\n"
     ]
    }
   ],
   "source": [
    "ls"
   ]
  },
  {
   "cell_type": "code",
   "execution_count": 3,
   "id": "2e4ded18",
   "metadata": {},
   "outputs": [],
   "source": [
    "mainDataFrame = pd.read_csv(\"nuclear_weapons_proliferation_owid.csv\")"
   ]
  },
  {
   "cell_type": "code",
   "execution_count": 10,
   "id": "4e567970",
   "metadata": {},
   "outputs": [
    {
     "data": {
      "text/html": [
       "<div>\n",
       "<style scoped>\n",
       "    .dataframe tbody tr th:only-of-type {\n",
       "        vertical-align: middle;\n",
       "    }\n",
       "\n",
       "    .dataframe tbody tr th {\n",
       "        vertical-align: top;\n",
       "    }\n",
       "\n",
       "    .dataframe thead th {\n",
       "        text-align: right;\n",
       "    }\n",
       "</style>\n",
       "<table border=\"1\" class=\"dataframe\">\n",
       "  <thead>\n",
       "    <tr style=\"text-align: right;\">\n",
       "      <th></th>\n",
       "      <th>country_name</th>\n",
       "      <th>year</th>\n",
       "      <th>nuclear_weapons_status</th>\n",
       "      <th>nuclear_weapons_consideration</th>\n",
       "      <th>nuclear_weapons_pursuit</th>\n",
       "      <th>nuclear_weapons_possession</th>\n",
       "    </tr>\n",
       "  </thead>\n",
       "  <tbody>\n",
       "    <tr>\n",
       "      <th>16081</th>\n",
       "      <td>United States</td>\n",
       "      <td>1938</td>\n",
       "      <td>0</td>\n",
       "      <td>0</td>\n",
       "      <td>0</td>\n",
       "      <td>0</td>\n",
       "    </tr>\n",
       "    <tr>\n",
       "      <th>16082</th>\n",
       "      <td>United States</td>\n",
       "      <td>1939</td>\n",
       "      <td>1</td>\n",
       "      <td>1</td>\n",
       "      <td>0</td>\n",
       "      <td>0</td>\n",
       "    </tr>\n",
       "    <tr>\n",
       "      <th>16083</th>\n",
       "      <td>United States</td>\n",
       "      <td>1940</td>\n",
       "      <td>1</td>\n",
       "      <td>1</td>\n",
       "      <td>0</td>\n",
       "      <td>0</td>\n",
       "    </tr>\n",
       "    <tr>\n",
       "      <th>16084</th>\n",
       "      <td>United States</td>\n",
       "      <td>1941</td>\n",
       "      <td>1</td>\n",
       "      <td>1</td>\n",
       "      <td>0</td>\n",
       "      <td>0</td>\n",
       "    </tr>\n",
       "    <tr>\n",
       "      <th>16085</th>\n",
       "      <td>United States</td>\n",
       "      <td>1942</td>\n",
       "      <td>2</td>\n",
       "      <td>0</td>\n",
       "      <td>1</td>\n",
       "      <td>0</td>\n",
       "    </tr>\n",
       "    <tr>\n",
       "      <th>...</th>\n",
       "      <td>...</td>\n",
       "      <td>...</td>\n",
       "      <td>...</td>\n",
       "      <td>...</td>\n",
       "      <td>...</td>\n",
       "      <td>...</td>\n",
       "    </tr>\n",
       "    <tr>\n",
       "      <th>16161</th>\n",
       "      <td>United States</td>\n",
       "      <td>2018</td>\n",
       "      <td>3</td>\n",
       "      <td>0</td>\n",
       "      <td>0</td>\n",
       "      <td>1</td>\n",
       "    </tr>\n",
       "    <tr>\n",
       "      <th>16162</th>\n",
       "      <td>United States</td>\n",
       "      <td>2019</td>\n",
       "      <td>3</td>\n",
       "      <td>0</td>\n",
       "      <td>0</td>\n",
       "      <td>1</td>\n",
       "    </tr>\n",
       "    <tr>\n",
       "      <th>16163</th>\n",
       "      <td>United States</td>\n",
       "      <td>2020</td>\n",
       "      <td>3</td>\n",
       "      <td>0</td>\n",
       "      <td>0</td>\n",
       "      <td>1</td>\n",
       "    </tr>\n",
       "    <tr>\n",
       "      <th>16164</th>\n",
       "      <td>United States</td>\n",
       "      <td>2021</td>\n",
       "      <td>3</td>\n",
       "      <td>0</td>\n",
       "      <td>0</td>\n",
       "      <td>1</td>\n",
       "    </tr>\n",
       "    <tr>\n",
       "      <th>16165</th>\n",
       "      <td>United States</td>\n",
       "      <td>2022</td>\n",
       "      <td>3</td>\n",
       "      <td>0</td>\n",
       "      <td>0</td>\n",
       "      <td>1</td>\n",
       "    </tr>\n",
       "  </tbody>\n",
       "</table>\n",
       "<p>85 rows × 6 columns</p>\n",
       "</div>"
      ],
      "text/plain": [
       "        country_name  year  nuclear_weapons_status  \\\n",
       "16081  United States  1938                       0   \n",
       "16082  United States  1939                       1   \n",
       "16083  United States  1940                       1   \n",
       "16084  United States  1941                       1   \n",
       "16085  United States  1942                       2   \n",
       "...              ...   ...                     ...   \n",
       "16161  United States  2018                       3   \n",
       "16162  United States  2019                       3   \n",
       "16163  United States  2020                       3   \n",
       "16164  United States  2021                       3   \n",
       "16165  United States  2022                       3   \n",
       "\n",
       "       nuclear_weapons_consideration  nuclear_weapons_pursuit  \\\n",
       "16081                              0                        0   \n",
       "16082                              1                        0   \n",
       "16083                              1                        0   \n",
       "16084                              1                        0   \n",
       "16085                              0                        1   \n",
       "...                              ...                      ...   \n",
       "16161                              0                        0   \n",
       "16162                              0                        0   \n",
       "16163                              0                        0   \n",
       "16164                              0                        0   \n",
       "16165                              0                        0   \n",
       "\n",
       "       nuclear_weapons_possession  \n",
       "16081                           0  \n",
       "16082                           0  \n",
       "16083                           0  \n",
       "16084                           0  \n",
       "16085                           0  \n",
       "...                           ...  \n",
       "16161                           1  \n",
       "16162                           1  \n",
       "16163                           1  \n",
       "16164                           1  \n",
       "16165                           1  \n",
       "\n",
       "[85 rows x 6 columns]"
      ]
     },
     "execution_count": 10,
     "metadata": {},
     "output_type": "execute_result"
    }
   ],
   "source": [
    "mainDataFrame[mainDataFrame.country_name == \"United States\"]"
   ]
  },
  {
   "cell_type": "code",
   "execution_count": 5,
   "id": "b9e68e1c",
   "metadata": {},
   "outputs": [
    {
     "data": {
      "text/plain": [
       "16848"
      ]
     },
     "execution_count": 5,
     "metadata": {},
     "output_type": "execute_result"
    }
   ],
   "source": [
    "len(mainDataFrame)"
   ]
  },
  {
   "cell_type": "markdown",
   "id": "5a5305ad",
   "metadata": {},
   "source": [
    "### Number of Rows is 16,848"
   ]
  },
  {
   "cell_type": "markdown",
   "id": "0da276e7",
   "metadata": {},
   "source": [
    "### Number of U.S Rows = 85"
   ]
  },
  {
   "cell_type": "code",
   "execution_count": 11,
   "id": "f90c8952",
   "metadata": {},
   "outputs": [
    {
     "data": {
      "text/html": [
       "<div>\n",
       "<style scoped>\n",
       "    .dataframe tbody tr th:only-of-type {\n",
       "        vertical-align: middle;\n",
       "    }\n",
       "\n",
       "    .dataframe tbody tr th {\n",
       "        vertical-align: top;\n",
       "    }\n",
       "\n",
       "    .dataframe thead th {\n",
       "        text-align: right;\n",
       "    }\n",
       "</style>\n",
       "<table border=\"1\" class=\"dataframe\">\n",
       "  <thead>\n",
       "    <tr style=\"text-align: right;\">\n",
       "      <th></th>\n",
       "      <th>country_name</th>\n",
       "      <th>year</th>\n",
       "      <th>nuclear_weapons_status</th>\n",
       "      <th>nuclear_weapons_consideration</th>\n",
       "      <th>nuclear_weapons_pursuit</th>\n",
       "      <th>nuclear_weapons_possession</th>\n",
       "    </tr>\n",
       "  </thead>\n",
       "  <tbody>\n",
       "    <tr>\n",
       "      <th>12049</th>\n",
       "      <td>Russia</td>\n",
       "      <td>1938</td>\n",
       "      <td>0</td>\n",
       "      <td>0</td>\n",
       "      <td>0</td>\n",
       "      <td>0</td>\n",
       "    </tr>\n",
       "    <tr>\n",
       "      <th>12050</th>\n",
       "      <td>Russia</td>\n",
       "      <td>1939</td>\n",
       "      <td>0</td>\n",
       "      <td>0</td>\n",
       "      <td>0</td>\n",
       "      <td>0</td>\n",
       "    </tr>\n",
       "    <tr>\n",
       "      <th>12051</th>\n",
       "      <td>Russia</td>\n",
       "      <td>1940</td>\n",
       "      <td>0</td>\n",
       "      <td>0</td>\n",
       "      <td>0</td>\n",
       "      <td>0</td>\n",
       "    </tr>\n",
       "    <tr>\n",
       "      <th>12052</th>\n",
       "      <td>Russia</td>\n",
       "      <td>1941</td>\n",
       "      <td>0</td>\n",
       "      <td>0</td>\n",
       "      <td>0</td>\n",
       "      <td>0</td>\n",
       "    </tr>\n",
       "    <tr>\n",
       "      <th>12053</th>\n",
       "      <td>Russia</td>\n",
       "      <td>1942</td>\n",
       "      <td>1</td>\n",
       "      <td>1</td>\n",
       "      <td>0</td>\n",
       "      <td>0</td>\n",
       "    </tr>\n",
       "    <tr>\n",
       "      <th>...</th>\n",
       "      <td>...</td>\n",
       "      <td>...</td>\n",
       "      <td>...</td>\n",
       "      <td>...</td>\n",
       "      <td>...</td>\n",
       "      <td>...</td>\n",
       "    </tr>\n",
       "    <tr>\n",
       "      <th>12129</th>\n",
       "      <td>Russia</td>\n",
       "      <td>2018</td>\n",
       "      <td>3</td>\n",
       "      <td>0</td>\n",
       "      <td>0</td>\n",
       "      <td>1</td>\n",
       "    </tr>\n",
       "    <tr>\n",
       "      <th>12130</th>\n",
       "      <td>Russia</td>\n",
       "      <td>2019</td>\n",
       "      <td>3</td>\n",
       "      <td>0</td>\n",
       "      <td>0</td>\n",
       "      <td>1</td>\n",
       "    </tr>\n",
       "    <tr>\n",
       "      <th>12131</th>\n",
       "      <td>Russia</td>\n",
       "      <td>2020</td>\n",
       "      <td>3</td>\n",
       "      <td>0</td>\n",
       "      <td>0</td>\n",
       "      <td>1</td>\n",
       "    </tr>\n",
       "    <tr>\n",
       "      <th>12132</th>\n",
       "      <td>Russia</td>\n",
       "      <td>2021</td>\n",
       "      <td>3</td>\n",
       "      <td>0</td>\n",
       "      <td>0</td>\n",
       "      <td>1</td>\n",
       "    </tr>\n",
       "    <tr>\n",
       "      <th>12133</th>\n",
       "      <td>Russia</td>\n",
       "      <td>2022</td>\n",
       "      <td>3</td>\n",
       "      <td>0</td>\n",
       "      <td>0</td>\n",
       "      <td>1</td>\n",
       "    </tr>\n",
       "  </tbody>\n",
       "</table>\n",
       "<p>85 rows × 6 columns</p>\n",
       "</div>"
      ],
      "text/plain": [
       "      country_name  year  nuclear_weapons_status  \\\n",
       "12049       Russia  1938                       0   \n",
       "12050       Russia  1939                       0   \n",
       "12051       Russia  1940                       0   \n",
       "12052       Russia  1941                       0   \n",
       "12053       Russia  1942                       1   \n",
       "...            ...   ...                     ...   \n",
       "12129       Russia  2018                       3   \n",
       "12130       Russia  2019                       3   \n",
       "12131       Russia  2020                       3   \n",
       "12132       Russia  2021                       3   \n",
       "12133       Russia  2022                       3   \n",
       "\n",
       "       nuclear_weapons_consideration  nuclear_weapons_pursuit  \\\n",
       "12049                              0                        0   \n",
       "12050                              0                        0   \n",
       "12051                              0                        0   \n",
       "12052                              0                        0   \n",
       "12053                              1                        0   \n",
       "...                              ...                      ...   \n",
       "12129                              0                        0   \n",
       "12130                              0                        0   \n",
       "12131                              0                        0   \n",
       "12132                              0                        0   \n",
       "12133                              0                        0   \n",
       "\n",
       "       nuclear_weapons_possession  \n",
       "12049                           0  \n",
       "12050                           0  \n",
       "12051                           0  \n",
       "12052                           0  \n",
       "12053                           0  \n",
       "...                           ...  \n",
       "12129                           1  \n",
       "12130                           1  \n",
       "12131                           1  \n",
       "12132                           1  \n",
       "12133                           1  \n",
       "\n",
       "[85 rows x 6 columns]"
      ]
     },
     "execution_count": 11,
     "metadata": {},
     "output_type": "execute_result"
    }
   ],
   "source": [
    "mainDataFrame[mainDataFrame.country_name == \"Russia\"]"
   ]
  },
  {
   "cell_type": "markdown",
   "id": "99d2ed7e",
   "metadata": {},
   "source": [
    "### Number of Russia Rows = 85"
   ]
  },
  {
   "cell_type": "code",
   "execution_count": 12,
   "id": "b3722fda",
   "metadata": {},
   "outputs": [
    {
     "data": {
      "text/plain": [
       "country_name                     object\n",
       "year                              int64\n",
       "nuclear_weapons_status            int64\n",
       "nuclear_weapons_consideration     int64\n",
       "nuclear_weapons_pursuit           int64\n",
       "nuclear_weapons_possession        int64\n",
       "dtype: object"
      ]
     },
     "execution_count": 12,
     "metadata": {},
     "output_type": "execute_result"
    }
   ],
   "source": [
    "mainDataFrame.dtypes"
   ]
  },
  {
   "cell_type": "code",
   "execution_count": 13,
   "id": "a368d7e3",
   "metadata": {},
   "outputs": [],
   "source": [
    "USDataFrame = mainDataFrame[mainDataFrame.country_name == \"United States\"]"
   ]
  },
  {
   "cell_type": "code",
   "execution_count": 14,
   "id": "e05489f5",
   "metadata": {},
   "outputs": [],
   "source": [
    "RussiaDataFrame = mainDataFrame[mainDataFrame.country_name == \"Russia\"]"
   ]
  },
  {
   "cell_type": "markdown",
   "id": "206994f3",
   "metadata": {},
   "source": [
    "### Average weapon Status:"
   ]
  },
  {
   "cell_type": "code",
   "execution_count": 15,
   "id": "845ee5f6",
   "metadata": {},
   "outputs": [],
   "source": [
    "USAverageWeaponStatus = USDataFrame[\"nuclear_weapons_status\"].mean()"
   ]
  },
  {
   "cell_type": "code",
   "execution_count": 16,
   "id": "302158f0",
   "metadata": {},
   "outputs": [
    {
     "data": {
      "text/plain": [
       "2.8588235294117648"
      ]
     },
     "execution_count": 16,
     "metadata": {},
     "output_type": "execute_result"
    }
   ],
   "source": [
    "USAverageWeaponStatus"
   ]
  },
  {
   "cell_type": "code",
   "execution_count": 17,
   "id": "dfc43e9b",
   "metadata": {},
   "outputs": [],
   "source": [
    "RussiaAverageWeaponStatus = RussiaDataFrame[\"nuclear_weapons_status\"].mean()"
   ]
  },
  {
   "cell_type": "code",
   "execution_count": 18,
   "id": "3b99c5cc",
   "metadata": {},
   "outputs": [
    {
     "data": {
      "text/plain": [
       "2.764705882352941"
      ]
     },
     "execution_count": 18,
     "metadata": {},
     "output_type": "execute_result"
    }
   ],
   "source": [
    "RussiaAverageWeaponStatus"
   ]
  },
  {
   "cell_type": "markdown",
   "id": "50861569",
   "metadata": {},
   "source": [
    "### Average weapon possesion"
   ]
  },
  {
   "cell_type": "code",
   "execution_count": 19,
   "id": "ae6d769b",
   "metadata": {},
   "outputs": [],
   "source": [
    "USAverageWeaponPossesion = USDataFrame[\"nuclear_weapons_possession\"].mean()"
   ]
  },
  {
   "cell_type": "code",
   "execution_count": 20,
   "id": "a37a3198",
   "metadata": {},
   "outputs": [
    {
     "data": {
      "text/plain": [
       "0.9176470588235294"
      ]
     },
     "execution_count": 20,
     "metadata": {},
     "output_type": "execute_result"
    }
   ],
   "source": [
    "USAverageWeaponPossesion"
   ]
  },
  {
   "cell_type": "code",
   "execution_count": 22,
   "id": "f3d726fd",
   "metadata": {},
   "outputs": [],
   "source": [
    "RussiaAverageWeaponPossesion = RussiaDataFrame[\"nuclear_weapons_possession\"].mean()"
   ]
  },
  {
   "cell_type": "code",
   "execution_count": 23,
   "id": "23ec381f",
   "metadata": {},
   "outputs": [
    {
     "data": {
      "text/plain": [
       "0.8705882352941177"
      ]
     },
     "execution_count": 23,
     "metadata": {},
     "output_type": "execute_result"
    }
   ],
   "source": [
    "RussiaAverageWeaponPossesion"
   ]
  },
  {
   "cell_type": "code",
   "execution_count": 41,
   "id": "da3bc35a",
   "metadata": {},
   "outputs": [],
   "source": [
    "countriesGrouped = mainDataFrame.groupby(\"country_name\").mean()"
   ]
  },
  {
   "cell_type": "code",
   "execution_count": 25,
   "id": "572150a0",
   "metadata": {},
   "outputs": [
    {
     "data": {
      "text/plain": [
       "202"
      ]
     },
     "execution_count": 25,
     "metadata": {},
     "output_type": "execute_result"
    }
   ],
   "source": [
    "len(countriesGrouped)"
   ]
  },
  {
   "cell_type": "code",
   "execution_count": 29,
   "id": "b13c6e2f",
   "metadata": {},
   "outputs": [],
   "source": [
    "#countriesGrouped[countriesGrouped.country_name == \"United States\"]"
   ]
  },
  {
   "cell_type": "code",
   "execution_count": 45,
   "id": "f1354e41",
   "metadata": {},
   "outputs": [
    {
     "data": {
      "text/plain": [
       "pandas.core.frame.DataFrame"
      ]
     },
     "execution_count": 45,
     "metadata": {},
     "output_type": "execute_result"
    }
   ],
   "source": [
    "type(countriesGrouped)"
   ]
  },
  {
   "cell_type": "code",
   "execution_count": 50,
   "id": "98693841",
   "metadata": {},
   "outputs": [
    {
     "data": {
      "text/plain": [
       "<function ndarray.view>"
      ]
     },
     "execution_count": 50,
     "metadata": {},
     "output_type": "execute_result"
    }
   ],
   "source": []
  },
  {
   "cell_type": "code",
   "execution_count": null,
   "id": "b9c4a707",
   "metadata": {},
   "outputs": [],
   "source": []
  }
 ],
 "metadata": {
  "kernelspec": {
   "display_name": "Python 3 (ipykernel)",
   "language": "python",
   "name": "python3"
  },
  "language_info": {
   "codemirror_mode": {
    "name": "ipython",
    "version": 3
   },
   "file_extension": ".py",
   "mimetype": "text/x-python",
   "name": "python",
   "nbconvert_exporter": "python",
   "pygments_lexer": "ipython3",
   "version": "3.10.8"
  }
 },
 "nbformat": 4,
 "nbformat_minor": 5
}
